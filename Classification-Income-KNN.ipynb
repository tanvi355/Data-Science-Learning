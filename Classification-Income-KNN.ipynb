{
 "cells": [
  {
   "cell_type": "markdown",
   "id": "ebd5b095",
   "metadata": {},
   "source": [
    "# K Nearest Neighbors (KNN) "
   ]
  },
  {
   "cell_type": "markdown",
   "id": "aba0eb87",
   "metadata": {},
   "source": [
    "## Classifying personal income into:\n",
    "\n",
    "- less than or equal to 50,000\n",
    "\n",
    "- greater than 50,000"
   ]
  },
  {
   "cell_type": "markdown",
   "id": "77885ec9",
   "metadata": {},
   "source": [
    "### Importing necessary packages"
   ]
  },
  {
   "cell_type": "code",
   "execution_count": 1,
   "id": "aada9bd8",
   "metadata": {},
   "outputs": [],
   "source": [
    "import os\n",
    "#to work with df\n",
    "import pandas as pd\n",
    "#to perform numerical operations\n",
    "import numpy as np\n",
    "#to visualize the data\n",
    "import seaborn as sns\n",
    "#to partition the data\n",
    "from sklearn.model_selection import train_test_split\n",
    "#importing the library of KNN\n",
    "from sklearn.neighbors import KNeighborsClassifier\n",
    "#importing performance metrics - accuracy score and confusion matrix\n",
    "from sklearn.metrics import accuracy_score, confusion_matrix"
   ]
  },
  {
   "cell_type": "markdown",
   "id": "af6280cb",
   "metadata": {},
   "source": [
    "### Importing the data "
   ]
  },
  {
   "cell_type": "code",
   "execution_count": 2,
   "id": "2cf3d9ed",
   "metadata": {},
   "outputs": [],
   "source": [
    "os.chdir('F:/DS tut/datasets')"
   ]
  },
  {
   "cell_type": "code",
   "execution_count": 3,
   "id": "61bd4732",
   "metadata": {},
   "outputs": [],
   "source": [
    "data = pd.read_csv('income.csv', na_values=[\" ?\"])"
   ]
  },
  {
   "cell_type": "markdown",
   "id": "80d8c4a1",
   "metadata": {},
   "source": [
    "### Data pre-processing "
   ]
  },
  {
   "cell_type": "code",
   "execution_count": 4,
   "id": "828ef87c",
   "metadata": {},
   "outputs": [
    {
     "data": {
      "text/plain": [
       "age                 0\n",
       "JobType          1809\n",
       "EdType              0\n",
       "maritalstatus       0\n",
       "occupation       1816\n",
       "relationship        0\n",
       "race                0\n",
       "gender              0\n",
       "capitalgain         0\n",
       "capitalloss         0\n",
       "hoursperweek        0\n",
       "nativecountry       0\n",
       "SalStat             0\n",
       "dtype: int64"
      ]
     },
     "execution_count": 4,
     "metadata": {},
     "output_type": "execute_result"
    }
   ],
   "source": [
    "data.isnull().sum()"
   ]
  },
  {
   "cell_type": "code",
   "execution_count": 5,
   "id": "6e8fc5cf",
   "metadata": {},
   "outputs": [
    {
     "name": "stdout",
     "output_type": "stream",
     "text": [
      "       age JobType         EdType        maritalstatus occupation  \\\n",
      "8       17     NaN           11th        Never-married        NaN   \n",
      "17      32     NaN   Some-college   Married-civ-spouse        NaN   \n",
      "29      22     NaN   Some-college        Never-married        NaN   \n",
      "42      52     NaN           12th        Never-married        NaN   \n",
      "44      63     NaN        1st-4th   Married-civ-spouse        NaN   \n",
      "...    ...     ...            ...                  ...        ...   \n",
      "31892   59     NaN      Bachelors   Married-civ-spouse        NaN   \n",
      "31934   20     NaN        HS-grad        Never-married        NaN   \n",
      "31945   28     NaN   Some-college   Married-civ-spouse        NaN   \n",
      "31967   80     NaN        HS-grad              Widowed        NaN   \n",
      "31968   17     NaN           11th        Never-married        NaN   \n",
      "\n",
      "          relationship    race   gender  capitalgain  capitalloss  \\\n",
      "8            Own-child   White   Female            0            0   \n",
      "17             Husband   White     Male            0            0   \n",
      "29           Own-child   White     Male            0            0   \n",
      "42      Other-relative   Black     Male          594            0   \n",
      "44             Husband   White     Male            0            0   \n",
      "...                ...     ...      ...          ...          ...   \n",
      "31892          Husband   White     Male            0            0   \n",
      "31934   Other-relative   White   Female            0            0   \n",
      "31945             Wife   White   Female            0         1887   \n",
      "31967    Not-in-family   White     Male            0            0   \n",
      "31968        Own-child   White     Male            0            0   \n",
      "\n",
      "       hoursperweek   nativecountry                        SalStat  \n",
      "8                 5   United-States   less than or equal to 50,000  \n",
      "17               40   United-States   less than or equal to 50,000  \n",
      "29               40   United-States   less than or equal to 50,000  \n",
      "42               40   United-States   less than or equal to 50,000  \n",
      "44               35   United-States   less than or equal to 50,000  \n",
      "...             ...             ...                            ...  \n",
      "31892            40   United-States            greater than 50,000  \n",
      "31934            35   United-States   less than or equal to 50,000  \n",
      "31945            40   United-States            greater than 50,000  \n",
      "31967            24   United-States   less than or equal to 50,000  \n",
      "31968            40   United-States   less than or equal to 50,000  \n",
      "\n",
      "[1816 rows x 13 columns]\n"
     ]
    }
   ],
   "source": [
    "missing = data[data.isnull().any(axis=1)]\n",
    "#axis=1 => to consider at least one column value is missing in a row\n",
    "print(missing)"
   ]
  },
  {
   "cell_type": "markdown",
   "id": "10a31bd2",
   "metadata": {},
   "source": [
    "1. Missing values in Jobtype    = 1809\n",
    "\n",
    "2. Missing values in Occupation = 1816 \n",
    "\n",
    "3. There are 1809 rows where two specific columns i.e. occupation & JobType have missing values\n",
    "   \n",
    "4. (1816-1809) = 7 => You still have occupation unfilled for these 7 rows. Because, jobtype is Never worked"
   ]
  },
  {
   "cell_type": "code",
   "execution_count": 6,
   "id": "9ee941ca",
   "metadata": {},
   "outputs": [],
   "source": [
    "#dropping na values\n",
    "data2 = data.dropna(axis=0)"
   ]
  },
  {
   "cell_type": "code",
   "execution_count": 7,
   "id": "2465d586",
   "metadata": {},
   "outputs": [
    {
     "name": "stdout",
     "output_type": "stream",
     "text": [
      "0        0\n",
      "1        0\n",
      "2        1\n",
      "3        0\n",
      "4        0\n",
      "        ..\n",
      "31973    0\n",
      "31974    0\n",
      "31975    0\n",
      "31976    0\n",
      "31977    0\n",
      "Name: SalStat, Length: 30162, dtype: int64\n"
     ]
    },
    {
     "name": "stderr",
     "output_type": "stream",
     "text": [
      "<ipython-input-7-1aad67335be0>:2: SettingWithCopyWarning: \n",
      "A value is trying to be set on a copy of a slice from a DataFrame.\n",
      "Try using .loc[row_indexer,col_indexer] = value instead\n",
      "\n",
      "See the caveats in the documentation: https://pandas.pydata.org/pandas-docs/stable/user_guide/indexing.html#returning-a-view-versus-a-copy\n",
      "  data2['SalStat'] = data2['SalStat'].map({' less than or equal to 50,000':0, ' greater than 50,000':1})\n"
     ]
    }
   ],
   "source": [
    "#reindexing salary status names to 0, 1\n",
    "data2['SalStat'] = data2['SalStat'].map({' less than or equal to 50,000':0, ' greater than 50,000':1})\n",
    "print(data2['SalStat'])"
   ]
  },
  {
   "cell_type": "code",
   "execution_count": 8,
   "id": "dc27bd35",
   "metadata": {},
   "outputs": [],
   "source": [
    "new_data = pd.get_dummies(data2, drop_first=True)"
   ]
  },
  {
   "cell_type": "code",
   "execution_count": 9,
   "id": "b93a903e",
   "metadata": {},
   "outputs": [
    {
     "name": "stdout",
     "output_type": "stream",
     "text": [
      "['age', 'capitalgain', 'capitalloss', 'hoursperweek', 'SalStat', 'JobType_ Local-gov', 'JobType_ Private', 'JobType_ Self-emp-inc', 'JobType_ Self-emp-not-inc', 'JobType_ State-gov', 'JobType_ Without-pay', 'EdType_ 11th', 'EdType_ 12th', 'EdType_ 1st-4th', 'EdType_ 5th-6th', 'EdType_ 7th-8th', 'EdType_ 9th', 'EdType_ Assoc-acdm', 'EdType_ Assoc-voc', 'EdType_ Bachelors', 'EdType_ Doctorate', 'EdType_ HS-grad', 'EdType_ Masters', 'EdType_ Preschool', 'EdType_ Prof-school', 'EdType_ Some-college', 'maritalstatus_ Married-AF-spouse', 'maritalstatus_ Married-civ-spouse', 'maritalstatus_ Married-spouse-absent', 'maritalstatus_ Never-married', 'maritalstatus_ Separated', 'maritalstatus_ Widowed', 'occupation_ Armed-Forces', 'occupation_ Craft-repair', 'occupation_ Exec-managerial', 'occupation_ Farming-fishing', 'occupation_ Handlers-cleaners', 'occupation_ Machine-op-inspct', 'occupation_ Other-service', 'occupation_ Priv-house-serv', 'occupation_ Prof-specialty', 'occupation_ Protective-serv', 'occupation_ Sales', 'occupation_ Tech-support', 'occupation_ Transport-moving', 'relationship_ Not-in-family', 'relationship_ Other-relative', 'relationship_ Own-child', 'relationship_ Unmarried', 'relationship_ Wife', 'race_ Asian-Pac-Islander', 'race_ Black', 'race_ Other', 'race_ White', 'gender_ Male', 'nativecountry_ Canada', 'nativecountry_ China', 'nativecountry_ Columbia', 'nativecountry_ Cuba', 'nativecountry_ Dominican-Republic', 'nativecountry_ Ecuador', 'nativecountry_ El-Salvador', 'nativecountry_ England', 'nativecountry_ France', 'nativecountry_ Germany', 'nativecountry_ Greece', 'nativecountry_ Guatemala', 'nativecountry_ Haiti', 'nativecountry_ Holand-Netherlands', 'nativecountry_ Honduras', 'nativecountry_ Hong', 'nativecountry_ Hungary', 'nativecountry_ India', 'nativecountry_ Iran', 'nativecountry_ Ireland', 'nativecountry_ Italy', 'nativecountry_ Jamaica', 'nativecountry_ Japan', 'nativecountry_ Laos', 'nativecountry_ Mexico', 'nativecountry_ Nicaragua', 'nativecountry_ Outlying-US(Guam-USVI-etc)', 'nativecountry_ Peru', 'nativecountry_ Philippines', 'nativecountry_ Poland', 'nativecountry_ Portugal', 'nativecountry_ Puerto-Rico', 'nativecountry_ Scotland', 'nativecountry_ South', 'nativecountry_ Taiwan', 'nativecountry_ Thailand', 'nativecountry_ Trinadad&Tobago', 'nativecountry_ United-States', 'nativecountry_ Vietnam', 'nativecountry_ Yugoslavia']\n"
     ]
    }
   ],
   "source": [
    "#storing column names\n",
    "columns_list = list(new_data.columns)\n",
    "print(columns_list)"
   ]
  },
  {
   "cell_type": "code",
   "execution_count": 10,
   "id": "429e54e6",
   "metadata": {},
   "outputs": [
    {
     "name": "stdout",
     "output_type": "stream",
     "text": [
      "['JobType_ Local-gov', 'race_ Other', 'maritalstatus_ Never-married', 'occupation_ Armed-Forces', 'maritalstatus_ Married-spouse-absent', 'race_ White', 'nativecountry_ Japan', 'nativecountry_ Mexico', 'nativecountry_ Greece', 'nativecountry_ France', 'EdType_ 7th-8th', 'relationship_ Own-child', 'JobType_ State-gov', 'nativecountry_ Cuba', 'nativecountry_ South', 'nativecountry_ Iran', 'maritalstatus_ Married-civ-spouse', 'nativecountry_ Germany', 'nativecountry_ Taiwan', 'occupation_ Farming-fishing', 'nativecountry_ Puerto-Rico', 'nativecountry_ Canada', 'nativecountry_ Holand-Netherlands', 'nativecountry_ Nicaragua', 'EdType_ 11th', 'EdType_ HS-grad', 'occupation_ Transport-moving', 'nativecountry_ Columbia', 'maritalstatus_ Widowed', 'age', 'occupation_ Handlers-cleaners', 'occupation_ Tech-support', 'EdType_ 1st-4th', 'occupation_ Priv-house-serv', 'JobType_ Self-emp-inc', 'EdType_ Doctorate', 'nativecountry_ Hungary', 'occupation_ Prof-specialty', 'EdType_ Preschool', 'nativecountry_ England', 'EdType_ Assoc-voc', 'nativecountry_ Hong', 'EdType_ Some-college', 'occupation_ Craft-repair', 'nativecountry_ Outlying-US(Guam-USVI-etc)', 'nativecountry_ Peru', 'nativecountry_ Poland', 'EdType_ Bachelors', 'EdType_ 5th-6th', 'nativecountry_ United-States', 'nativecountry_ Jamaica', 'nativecountry_ Honduras', 'nativecountry_ Portugal', 'EdType_ Assoc-acdm', 'EdType_ Masters', 'nativecountry_ Haiti', 'occupation_ Other-service', 'nativecountry_ Scotland', 'hoursperweek', 'relationship_ Not-in-family', 'JobType_ Self-emp-not-inc', 'maritalstatus_ Separated', 'nativecountry_ Dominican-Republic', 'relationship_ Wife', 'nativecountry_ India', 'JobType_ Without-pay', 'maritalstatus_ Married-AF-spouse', 'capitalloss', 'nativecountry_ Guatemala', 'occupation_ Exec-managerial', 'gender_ Male', 'race_ Black', 'occupation_ Sales', 'EdType_ Prof-school', 'nativecountry_ Yugoslavia', 'JobType_ Private', 'nativecountry_ Laos', 'relationship_ Other-relative', 'nativecountry_ El-Salvador', 'nativecountry_ Vietnam', 'nativecountry_ Ecuador', 'capitalgain', 'nativecountry_ Italy', 'nativecountry_ Trinadad&Tobago', 'EdType_ 9th', 'nativecountry_ Philippines', 'race_ Asian-Pac-Islander', 'occupation_ Machine-op-inspct', 'nativecountry_ China', 'nativecountry_ Thailand', 'relationship_ Unmarried', 'EdType_ 12th', 'occupation_ Protective-serv', 'nativecountry_ Ireland']\n"
     ]
    }
   ],
   "source": [
    "#seperating the input names from data\n",
    "features = list(set(columns_list)-set(['SalStat']))\n",
    "print(features)"
   ]
  },
  {
   "cell_type": "code",
   "execution_count": 11,
   "id": "98b56f81",
   "metadata": {},
   "outputs": [
    {
     "name": "stdout",
     "output_type": "stream",
     "text": [
      "[0 0 1 ... 0 0 0]\n"
     ]
    }
   ],
   "source": [
    "#storing teh output values in y\n",
    "y = new_data['SalStat'].values\n",
    "print(y)"
   ]
  },
  {
   "cell_type": "code",
   "execution_count": 12,
   "id": "8af2edfd",
   "metadata": {},
   "outputs": [
    {
     "name": "stdout",
     "output_type": "stream",
     "text": [
      "[[0 0 0 ... 0 0 0]\n",
      " [0 0 1 ... 0 0 0]\n",
      " [0 0 0 ... 0 0 0]\n",
      " ...\n",
      " [0 0 0 ... 0 0 0]\n",
      " [1 0 0 ... 0 0 0]\n",
      " [0 0 1 ... 0 0 0]]\n"
     ]
    }
   ],
   "source": [
    "#storing values form input features\n",
    "x = new_data[features].values\n",
    "print(x)"
   ]
  },
  {
   "cell_type": "code",
   "execution_count": 13,
   "id": "f8a95956",
   "metadata": {},
   "outputs": [],
   "source": [
    "#splitting the data into train and test\n",
    "train_x, test_x, train_y, test_y = train_test_split(x, y, test_size=0.3, random_state=0)"
   ]
  },
  {
   "cell_type": "markdown",
   "id": "3cef34cf",
   "metadata": {},
   "source": [
    "# KNN "
   ]
  },
  {
   "cell_type": "code",
   "execution_count": 14,
   "id": "e27e71b2",
   "metadata": {},
   "outputs": [],
   "source": [
    "#storing k nearest neighbors classifier\n",
    "KNN_classifier = KNeighborsClassifier(n_neighbors = 5)"
   ]
  },
  {
   "cell_type": "code",
   "execution_count": 15,
   "id": "a863df85",
   "metadata": {},
   "outputs": [
    {
     "data": {
      "text/plain": [
       "KNeighborsClassifier()"
      ]
     },
     "execution_count": 15,
     "metadata": {},
     "output_type": "execute_result"
    }
   ],
   "source": [
    "#fitting the values for X and Y\n",
    "KNN_classifier.fit(train_x, train_y)"
   ]
  },
  {
   "cell_type": "code",
   "execution_count": 16,
   "id": "403e6ea4",
   "metadata": {},
   "outputs": [],
   "source": [
    "#predicting the test values with model\n",
    "prediction = KNN_classifier.predict(test_x)"
   ]
  },
  {
   "cell_type": "code",
   "execution_count": 17,
   "id": "e0db1f25",
   "metadata": {},
   "outputs": [
    {
     "name": "stdout",
     "output_type": "stream",
     "text": [
      "[[6173  650]\n",
      " [ 843 1383]]\n"
     ]
    }
   ],
   "source": [
    "#performance matrix check\n",
    "confusionMatrix = confusion_matrix(test_y, prediction)\n",
    "print(confusionMatrix)"
   ]
  },
  {
   "cell_type": "code",
   "execution_count": 18,
   "id": "b4e6c799",
   "metadata": {},
   "outputs": [
    {
     "name": "stdout",
     "output_type": "stream",
     "text": [
      "0.8350093933031274\n"
     ]
    }
   ],
   "source": [
    "#calculating the accuracy\n",
    "accuracy_score = accuracy_score(test_y, prediction)\n",
    "print(accuracy_score)"
   ]
  },
  {
   "cell_type": "code",
   "execution_count": 19,
   "id": "c7c52e66",
   "metadata": {},
   "outputs": [
    {
     "name": "stdout",
     "output_type": "stream",
     "text": [
      "Misclassified samples: 1493\n"
     ]
    }
   ],
   "source": [
    "print('Misclassified samples: %d' % (test_y!=prediction).sum())"
   ]
  },
  {
   "cell_type": "markdown",
   "id": "da1f024e",
   "metadata": {},
   "source": [
    "**Effect of K value on classifier**"
   ]
  },
  {
   "cell_type": "code",
   "execution_count": 21,
   "id": "9fe9b806",
   "metadata": {},
   "outputs": [
    {
     "name": "stdout",
     "output_type": "stream",
     "text": [
      "[1766, 1516, 1515, 1436, 1493, 1438, 1451, 1432, 1458, 1436, 1441, 1447, 1451, 1423, 1413, 1390, 1424, 1396, 1434]\n"
     ]
    }
   ],
   "source": [
    "Misclassified_sample = []\n",
    "#calculating error for K values between 1 and 20\n",
    "for i in range(1, 20):\n",
    "    knn = KNeighborsClassifier(n_neighbors=i)\n",
    "    knn.fit(train_x, train_y)\n",
    "    pred_i = knn.predict(test_x)\n",
    "    Misclassified_sample.append((test_y!=pred_i).sum())\n",
    "print(Misclassified_sample)"
   ]
  },
  {
   "cell_type": "code",
   "execution_count": null,
   "id": "853c5e72",
   "metadata": {},
   "outputs": [],
   "source": []
  }
 ],
 "metadata": {
  "kernelspec": {
   "display_name": "Python 3",
   "language": "python",
   "name": "python3"
  },
  "language_info": {
   "codemirror_mode": {
    "name": "ipython",
    "version": 3
   },
   "file_extension": ".py",
   "mimetype": "text/x-python",
   "name": "python",
   "nbconvert_exporter": "python",
   "pygments_lexer": "ipython3",
   "version": "3.8.10"
  },
  "varInspector": {
   "cols": {
    "lenName": 16,
    "lenType": 16,
    "lenVar": 40
   },
   "kernels_config": {
    "python": {
     "delete_cmd_postfix": "",
     "delete_cmd_prefix": "del ",
     "library": "var_list.py",
     "varRefreshCmd": "print(var_dic_list())"
    },
    "r": {
     "delete_cmd_postfix": ") ",
     "delete_cmd_prefix": "rm(",
     "library": "var_list.r",
     "varRefreshCmd": "cat(var_dic_list()) "
    }
   },
   "types_to_exclude": [
    "module",
    "function",
    "builtin_function_or_method",
    "instance",
    "_Feature"
   ],
   "window_display": false
  }
 },
 "nbformat": 4,
 "nbformat_minor": 5
}
