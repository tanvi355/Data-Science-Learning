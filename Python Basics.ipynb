{
 "cells": [
  {
   "cell_type": "markdown",
   "id": "bfb0d52d",
   "metadata": {},
   "source": [
    "# **_Python Basics_**\n"
   ]
  },
  {
   "cell_type": "markdown",
   "id": "cc6ddbea",
   "metadata": {},
   "source": [
    "## _Various data types in Python_\n",
    "\n",
    "\n",
    "## Numbers\n"
   ]
  },
  {
   "cell_type": "code",
   "execution_count": 2,
   "id": "5b5993f5",
   "metadata": {},
   "outputs": [
    {
     "data": {
      "text/plain": [
       "7"
      ]
     },
     "execution_count": 2,
     "metadata": {},
     "output_type": "execute_result"
    }
   ],
   "source": [
    "2+5"
   ]
  },
  {
   "cell_type": "code",
   "execution_count": 3,
   "id": "8a1c7cda",
   "metadata": {},
   "outputs": [
    {
     "data": {
      "text/plain": [
       "40"
      ]
     },
     "execution_count": 3,
     "metadata": {},
     "output_type": "execute_result"
    }
   ],
   "source": [
    "8*5"
   ]
  },
  {
   "cell_type": "code",
   "execution_count": 4,
   "id": "1c021d23",
   "metadata": {},
   "outputs": [
    {
     "data": {
      "text/plain": [
       "2.0"
      ]
     },
     "execution_count": 4,
     "metadata": {},
     "output_type": "execute_result"
    }
   ],
   "source": [
    "8/4"
   ]
  },
  {
   "cell_type": "code",
   "execution_count": 5,
   "id": "0010fc73",
   "metadata": {},
   "outputs": [
    {
     "data": {
      "text/plain": [
       "0"
      ]
     },
     "execution_count": 5,
     "metadata": {},
     "output_type": "execute_result"
    }
   ],
   "source": [
    "8%4"
   ]
  },
  {
   "cell_type": "code",
   "execution_count": 36,
   "id": "22f93d19",
   "metadata": {},
   "outputs": [
    {
     "data": {
      "text/plain": [
       "15.600000000000001"
      ]
     },
     "execution_count": 36,
     "metadata": {},
     "output_type": "execute_result"
    }
   ],
   "source": [
    "5.2*3"
   ]
  },
  {
   "cell_type": "code",
   "execution_count": 7,
   "id": "39f8a483",
   "metadata": {},
   "outputs": [
    {
     "data": {
      "text/plain": [
       "64"
      ]
     },
     "execution_count": 7,
     "metadata": {},
     "output_type": "execute_result"
    }
   ],
   "source": [
    "2**6"
   ]
  },
  {
   "cell_type": "code",
   "execution_count": null,
   "id": "7419f4bf",
   "metadata": {},
   "outputs": [],
   "source": [
    "# multiply string n times "
   ]
  },
  {
   "cell_type": "code",
   "execution_count": 37,
   "id": "d3a47828",
   "metadata": {},
   "outputs": [
    {
     "data": {
      "text/plain": [
       "' hello hello hello hello hello hello hello hello hello hello'"
      ]
     },
     "execution_count": 37,
     "metadata": {},
     "output_type": "execute_result"
    }
   ],
   "source": [
    "10 * ' hello'"
   ]
  },
  {
   "cell_type": "code",
   "execution_count": 9,
   "id": "2f1bfb0f",
   "metadata": {},
   "outputs": [],
   "source": [
    "# check data types"
   ]
  },
  {
   "cell_type": "code",
   "execution_count": 10,
   "id": "218462c8",
   "metadata": {},
   "outputs": [
    {
     "data": {
      "text/plain": [
       "int"
      ]
     },
     "execution_count": 10,
     "metadata": {},
     "output_type": "execute_result"
    }
   ],
   "source": [
    "type(5)"
   ]
  },
  {
   "cell_type": "code",
   "execution_count": 11,
   "id": "79391822",
   "metadata": {},
   "outputs": [
    {
     "data": {
      "text/plain": [
       "str"
      ]
     },
     "execution_count": 11,
     "metadata": {},
     "output_type": "execute_result"
    }
   ],
   "source": [
    "type('hi')"
   ]
  },
  {
   "cell_type": "code",
   "execution_count": 12,
   "id": "e91d7b34",
   "metadata": {},
   "outputs": [
    {
     "data": {
      "text/plain": [
       "float"
      ]
     },
     "execution_count": 12,
     "metadata": {},
     "output_type": "execute_result"
    }
   ],
   "source": [
    "type(5.66)"
   ]
  },
  {
   "cell_type": "code",
   "execution_count": 13,
   "id": "a01262b8",
   "metadata": {},
   "outputs": [
    {
     "data": {
      "text/plain": [
       "bool"
      ]
     },
     "execution_count": 13,
     "metadata": {},
     "output_type": "execute_result"
    }
   ],
   "source": [
    "type(True)"
   ]
  },
  {
   "cell_type": "markdown",
   "id": "0366cdc4",
   "metadata": {},
   "source": [
    "## Strings"
   ]
  },
  {
   "cell_type": "code",
   "execution_count": null,
   "id": "e858a81b",
   "metadata": {},
   "outputs": [],
   "source": [
    "# single quote / double quote doesn't matter"
   ]
  },
  {
   "cell_type": "code",
   "execution_count": 14,
   "id": "445310e7",
   "metadata": {},
   "outputs": [
    {
     "data": {
      "text/plain": [
       "'Hello world!'"
      ]
     },
     "execution_count": 14,
     "metadata": {},
     "output_type": "execute_result"
    }
   ],
   "source": [
    "\"Hello world!\""
   ]
  },
  {
   "cell_type": "code",
   "execution_count": 15,
   "id": "df7a6d47",
   "metadata": {},
   "outputs": [
    {
     "data": {
      "text/plain": [
       "'Hello World!'"
      ]
     },
     "execution_count": 15,
     "metadata": {},
     "output_type": "execute_result"
    }
   ],
   "source": [
    "'Hello World!'"
   ]
  },
  {
   "cell_type": "code",
   "execution_count": 16,
   "id": "b410ea7c",
   "metadata": {},
   "outputs": [
    {
     "data": {
      "text/plain": [
       "str"
      ]
     },
     "execution_count": 16,
     "metadata": {},
     "output_type": "execute_result"
    }
   ],
   "source": [
    "type(\"Hello\")"
   ]
  },
  {
   "cell_type": "markdown",
   "id": "96eaffce",
   "metadata": {},
   "source": [
    "## Variable Assignment"
   ]
  },
  {
   "cell_type": "code",
   "execution_count": 17,
   "id": "5cdd0ccc",
   "metadata": {},
   "outputs": [],
   "source": [
    "# syntax :\n",
    "# var_name = values\n",
    "# no need to specify data type in Python"
   ]
  },
  {
   "cell_type": "code",
   "execution_count": 18,
   "id": "94d85f89",
   "metadata": {},
   "outputs": [
    {
     "data": {
      "text/plain": [
       "int"
      ]
     },
     "execution_count": 18,
     "metadata": {},
     "output_type": "execute_result"
    }
   ],
   "source": [
    "a = 10\n",
    "type(a)"
   ]
  },
  {
   "cell_type": "code",
   "execution_count": 20,
   "id": "8c5bf326",
   "metadata": {},
   "outputs": [
    {
     "data": {
      "text/plain": [
       "str"
      ]
     },
     "execution_count": 20,
     "metadata": {},
     "output_type": "execute_result"
    }
   ],
   "source": [
    "str = 'Data Science'\n",
    "type(str)"
   ]
  },
  {
   "cell_type": "code",
   "execution_count": 26,
   "id": "4961ade0",
   "metadata": {},
   "outputs": [],
   "source": [
    "# Mathematical opeartions with variable assignment\n",
    "\n",
    "a=10\n",
    "b=20"
   ]
  },
  {
   "cell_type": "code",
   "execution_count": 28,
   "id": "443bf44e",
   "metadata": {},
   "outputs": [
    {
     "name": "stdout",
     "output_type": "stream",
     "text": [
      "200\n",
      "0.5\n",
      "10\n",
      "200.5\n"
     ]
    }
   ],
   "source": [
    "print(a*b)\n",
    "print(a/b)\n",
    "print(a%b)\n",
    "print((a*b)+(a/b))  # BODMAS"
   ]
  },
  {
   "cell_type": "code",
   "execution_count": 29,
   "id": "b881e2d4",
   "metadata": {},
   "outputs": [
    {
     "name": "stdout",
     "output_type": "stream",
     "text": [
      "Hello\n"
     ]
    }
   ],
   "source": [
    "# various ways of printing\n",
    "\n",
    "print(\"Hello\")"
   ]
  },
  {
   "cell_type": "code",
   "execution_count": 30,
   "id": "e1003428",
   "metadata": {},
   "outputs": [],
   "source": [
    "first_name = 'Sherlock'\n",
    "last_name = 'Holmes'"
   ]
  },
  {
   "cell_type": "code",
   "execution_count": null,
   "id": "7cd6218c",
   "metadata": {},
   "outputs": [],
   "source": [
    "# order matters"
   ]
  },
  {
   "cell_type": "code",
   "execution_count": 31,
   "id": "ddba5218",
   "metadata": {},
   "outputs": [
    {
     "name": "stdout",
     "output_type": "stream",
     "text": [
      "My first name is Sherlock and last name is Holmes\n"
     ]
    }
   ],
   "source": [
    "print(\"My first name is {} and last name is {}\".format(first_name, last_name))"
   ]
  },
  {
   "cell_type": "code",
   "execution_count": 32,
   "id": "23191791",
   "metadata": {},
   "outputs": [
    {
     "name": "stdout",
     "output_type": "stream",
     "text": [
      "My first name is Sherlock and last name is Holmes\n"
     ]
    }
   ],
   "source": [
    "print(\"My first name is {first} and last name is {last}\".format(first=first_name, last=last_name))"
   ]
  },
  {
   "cell_type": "markdown",
   "id": "8f86a95f",
   "metadata": {},
   "source": [
    "## Some in-built functions"
   ]
  },
  {
   "cell_type": "code",
   "execution_count": 33,
   "id": "5e798f90",
   "metadata": {},
   "outputs": [
    {
     "data": {
      "text/plain": [
       "8"
      ]
     },
     "execution_count": 33,
     "metadata": {},
     "output_type": "execute_result"
    }
   ],
   "source": [
    "len('sherlock')"
   ]
  },
  {
   "cell_type": "code",
   "execution_count": 34,
   "id": "f75cb817",
   "metadata": {},
   "outputs": [
    {
     "data": {
      "text/plain": [
       "int"
      ]
     },
     "execution_count": 34,
     "metadata": {},
     "output_type": "execute_result"
    }
   ],
   "source": [
    "type(23)"
   ]
  },
  {
   "cell_type": "code",
   "execution_count": 35,
   "id": "a00d2a3e",
   "metadata": {},
   "outputs": [
    {
     "data": {
      "text/plain": [
       "list"
      ]
     },
     "execution_count": 35,
     "metadata": {},
     "output_type": "execute_result"
    }
   ],
   "source": [
    "type([4,'hi',36])"
   ]
  },
  {
   "cell_type": "code",
   "execution_count": null,
   "id": "0802421a",
   "metadata": {},
   "outputs": [],
   "source": []
  }
 ],
 "metadata": {
  "kernelspec": {
   "display_name": "Python 3",
   "language": "python",
   "name": "python3"
  },
  "language_info": {
   "codemirror_mode": {
    "name": "ipython",
    "version": 3
   },
   "file_extension": ".py",
   "mimetype": "text/x-python",
   "name": "python",
   "nbconvert_exporter": "python",
   "pygments_lexer": "ipython3",
   "version": "3.8.10"
  }
 },
 "nbformat": 4,
 "nbformat_minor": 5
}
