{
 "cells": [
  {
   "cell_type": "markdown",
   "id": "536b8b2b",
   "metadata": {},
   "source": [
    "# Python Data Structures and Boolean\n",
    "\n",
    "- Boolean\n",
    "- Boolean and Logical Operators\n",
    "- Lists\n",
    "- Comparison Operators\n",
    "- Dictionaries\n",
    "- Tuples \n",
    "- Set"
   ]
  },
  {
   "cell_type": "markdown",
   "id": "ccc428aa",
   "metadata": {},
   "source": [
    "## Boolean variables \n",
    "They are 2 constant objects : false and true.\n",
    "\n",
    "Used to represent truth values (other values can also be considered false or true).\n",
    "\n",
    "In numeric context : true -> 1 and false -> 0.\n",
    "\n",
    "The built-in function bool() can be used to cast any value to a boolean, if the value can be interpreted as a truth value.\n",
    "\n",
    "They are written as False and True, respectively."
   ]
  },
  {
   "cell_type": "code",
   "execution_count": 1,
   "id": "ef784c26",
   "metadata": {},
   "outputs": [
    {
     "name": "stdout",
     "output_type": "stream",
     "text": [
      "True False\n"
     ]
    }
   ],
   "source": [
    "print(True, False)"
   ]
  },
  {
   "cell_type": "code",
   "execution_count": 2,
   "id": "25256a96",
   "metadata": {},
   "outputs": [
    {
     "data": {
      "text/plain": [
       "bool"
      ]
     },
     "execution_count": 2,
     "metadata": {},
     "output_type": "execute_result"
    }
   ],
   "source": [
    "type(True)"
   ]
  },
  {
   "cell_type": "code",
   "execution_count": 3,
   "id": "3d81e25f",
   "metadata": {},
   "outputs": [
    {
     "data": {
      "text/plain": [
       "bool"
      ]
     },
     "execution_count": 3,
     "metadata": {},
     "output_type": "execute_result"
    }
   ],
   "source": [
    "type(False)"
   ]
  },
  {
   "cell_type": "code",
   "execution_count": 4,
   "id": "0d7f7e6f",
   "metadata": {},
   "outputs": [],
   "source": [
    "my_str = \"bool var 1\""
   ]
  },
  {
   "cell_type": "code",
   "execution_count": 5,
   "id": "5fedaf56",
   "metadata": {},
   "outputs": [
    {
     "data": {
      "text/plain": [
       "False"
      ]
     },
     "execution_count": 5,
     "metadata": {},
     "output_type": "execute_result"
    }
   ],
   "source": [
    "my_str.isalnum()"
   ]
  },
  {
   "cell_type": "code",
   "execution_count": 6,
   "id": "53d92015",
   "metadata": {},
   "outputs": [],
   "source": [
    "my_str2 = \"bool007\""
   ]
  },
  {
   "cell_type": "code",
   "execution_count": 7,
   "id": "b366bc74",
   "metadata": {},
   "outputs": [
    {
     "data": {
      "text/plain": [
       "True"
      ]
     },
     "execution_count": 7,
     "metadata": {},
     "output_type": "execute_result"
    }
   ],
   "source": [
    "my_str2.isalnum()"
   ]
  },
  {
   "cell_type": "code",
   "execution_count": 13,
   "id": "1534d788",
   "metadata": {},
   "outputs": [
    {
     "name": "stdout",
     "output_type": "stream",
     "text": [
      "False\n",
      "False\n"
     ]
    }
   ],
   "source": [
    "#check if all char are aplhabets\n",
    "print(my_str.isalpha())\n",
    "#check if char are numbers\n",
    "print(my_str.isalnum())\n",
    "#test if string contains digits\n",
    "#test if string contains words\n",
    "#test if string contains title words\n",
    "#test if string contains lower case\n",
    "#test if string contains upper case\n",
    "#test if string contains spaces\n",
    "#test if string starts with b\n",
    "#test if string ends with 7"
   ]
  },
  {
   "cell_type": "markdown",
   "id": "b4056c90",
   "metadata": {},
   "source": [
    "## Boolean and Logical Operators"
   ]
  },
  {
   "cell_type": "code",
   "execution_count": 14,
   "id": "1468c840",
   "metadata": {},
   "outputs": [
    {
     "data": {
      "text/plain": [
       "True"
      ]
     },
     "execution_count": 14,
     "metadata": {},
     "output_type": "execute_result"
    }
   ],
   "source": [
    "True and True"
   ]
  },
  {
   "cell_type": "code",
   "execution_count": 15,
   "id": "b0aac828",
   "metadata": {},
   "outputs": [
    {
     "data": {
      "text/plain": [
       "False"
      ]
     },
     "execution_count": 15,
     "metadata": {},
     "output_type": "execute_result"
    }
   ],
   "source": [
    "True and False\n"
   ]
  },
  {
   "cell_type": "code",
   "execution_count": 16,
   "id": "0bd35956",
   "metadata": {},
   "outputs": [
    {
     "data": {
      "text/plain": [
       "True"
      ]
     },
     "execution_count": 16,
     "metadata": {},
     "output_type": "execute_result"
    }
   ],
   "source": [
    "True or False"
   ]
  },
  {
   "cell_type": "code",
   "execution_count": 17,
   "id": "fff41f01",
   "metadata": {},
   "outputs": [
    {
     "data": {
      "text/plain": [
       "True"
      ]
     },
     "execution_count": 17,
     "metadata": {},
     "output_type": "execute_result"
    }
   ],
   "source": [
    "True or True"
   ]
  },
  {
   "cell_type": "code",
   "execution_count": 18,
   "id": "c65bbf04",
   "metadata": {},
   "outputs": [],
   "source": [
    "str1 = \"hello world\"\n",
    "str2 = \"Data Science\""
   ]
  },
  {
   "cell_type": "code",
   "execution_count": 24,
   "id": "8300467e",
   "metadata": {},
   "outputs": [
    {
     "data": {
      "text/plain": [
       "False"
      ]
     },
     "execution_count": 24,
     "metadata": {},
     "output_type": "execute_result"
    }
   ],
   "source": [
    "str1.isalpha() and str2.istitle()"
   ]
  },
  {
   "cell_type": "markdown",
   "id": "6212eb0c",
   "metadata": {},
   "source": [
    "## Lists"
   ]
  },
  {
   "cell_type": "code",
   "execution_count": 25,
   "id": "42e3a984",
   "metadata": {},
   "outputs": [
    {
     "data": {
      "text/plain": [
       "list"
      ]
     },
     "execution_count": 25,
     "metadata": {},
     "output_type": "execute_result"
    }
   ],
   "source": [
    "type([])"
   ]
  },
  {
   "cell_type": "code",
   "execution_count": 26,
   "id": "b56b15a7",
   "metadata": {},
   "outputs": [],
   "source": [
    "#creating empty list :  method 1\n",
    "list_example=[]"
   ]
  },
  {
   "cell_type": "code",
   "execution_count": 27,
   "id": "a5eede7e",
   "metadata": {},
   "outputs": [
    {
     "data": {
      "text/plain": [
       "list"
      ]
     },
     "execution_count": 27,
     "metadata": {},
     "output_type": "execute_result"
    }
   ],
   "source": [
    "type(list_example)"
   ]
  },
  {
   "cell_type": "code",
   "execution_count": 28,
   "id": "68c799b9",
   "metadata": {},
   "outputs": [],
   "source": [
    "#mehtod 2 - using in-built function : list()\n",
    "lst = list()"
   ]
  },
  {
   "cell_type": "code",
   "execution_count": 29,
   "id": "7ded678d",
   "metadata": {},
   "outputs": [
    {
     "data": {
      "text/plain": [
       "list"
      ]
     },
     "execution_count": 29,
     "metadata": {},
     "output_type": "execute_result"
    }
   ],
   "source": [
    "type(lst)"
   ]
  },
  {
   "cell_type": "code",
   "execution_count": 31,
   "id": "d43c8cbd",
   "metadata": {},
   "outputs": [],
   "source": [
    "#adding items to a list - just enter comma seperated values\n",
    "lst = ['coldpay', 'kodaline', 1, 54]"
   ]
  },
  {
   "cell_type": "code",
   "execution_count": 32,
   "id": "0a2821e8",
   "metadata": {},
   "outputs": [
    {
     "data": {
      "text/plain": [
       "4"
      ]
     },
     "execution_count": 32,
     "metadata": {},
     "output_type": "execute_result"
    }
   ],
   "source": [
    "len(lst)"
   ]
  },
  {
   "cell_type": "code",
   "execution_count": 34,
   "id": "3122f54c",
   "metadata": {},
   "outputs": [
    {
     "data": {
      "text/plain": [
       "list"
      ]
     },
     "execution_count": 34,
     "metadata": {},
     "output_type": "execute_result"
    }
   ],
   "source": [
    "type(lst)"
   ]
  },
  {
   "cell_type": "markdown",
   "id": "fbb7981b",
   "metadata": {},
   "source": [
    "### In-built functions for lists"
   ]
  },
  {
   "cell_type": "markdown",
   "id": "93b2088c",
   "metadata": {},
   "source": [
    "### Append - by default, adds elements at the end of the list"
   ]
  },
  {
   "cell_type": "code",
   "execution_count": 35,
   "id": "24f253b2",
   "metadata": {},
   "outputs": [],
   "source": [
    "#add elements in the list \n",
    "lst.append(\"imagine dragons\")"
   ]
  },
  {
   "cell_type": "code",
   "execution_count": 36,
   "id": "ab46879d",
   "metadata": {},
   "outputs": [
    {
     "data": {
      "text/plain": [
       "['coldpay', 'kodaline', 1, 54, 'imagine dragons']"
      ]
     },
     "execution_count": 36,
     "metadata": {},
     "output_type": "execute_result"
    }
   ],
   "source": [
    "lst"
   ]
  },
  {
   "cell_type": "code",
   "execution_count": 37,
   "id": "76b0981c",
   "metadata": {},
   "outputs": [
    {
     "data": {
      "text/plain": [
       "'coldpay'"
      ]
     },
     "execution_count": 37,
     "metadata": {},
     "output_type": "execute_result"
    }
   ],
   "source": [
    "# indexing in lists\n",
    "lst[0]"
   ]
  },
  {
   "cell_type": "code",
   "execution_count": 39,
   "id": "e2e69d5e",
   "metadata": {},
   "outputs": [
    {
     "data": {
      "text/plain": [
       "'imagine dragons'"
      ]
     },
     "execution_count": 39,
     "metadata": {},
     "output_type": "execute_result"
    }
   ],
   "source": [
    "lst[4]"
   ]
  },
  {
   "cell_type": "code",
   "execution_count": 40,
   "id": "51a2c363",
   "metadata": {},
   "outputs": [
    {
     "data": {
      "text/plain": [
       "['coldpay', 'kodaline', 1, 54, 'imagine dragons']"
      ]
     },
     "execution_count": 40,
     "metadata": {},
     "output_type": "execute_result"
    }
   ],
   "source": [
    "#pick up all elements\n",
    "#we have not specified starting and ending index that's why we get complete list\n",
    "lst[:]"
   ]
  },
  {
   "cell_type": "code",
   "execution_count": 42,
   "id": "3a6c7b33",
   "metadata": {},
   "outputs": [
    {
     "data": {
      "text/plain": [
       "['kodaline', 1, 54]"
      ]
     },
     "execution_count": 42,
     "metadata": {},
     "output_type": "execute_result"
    }
   ],
   "source": [
    "lst[1:4]"
   ]
  },
  {
   "cell_type": "code",
   "execution_count": 44,
   "id": "ffbfe29e",
   "metadata": {},
   "outputs": [],
   "source": [
    "#creating nested list\n",
    "lst.append(['Chris Martin', 'Ed Sheeran'])"
   ]
  },
  {
   "cell_type": "code",
   "execution_count": 50,
   "id": "665948cc",
   "metadata": {},
   "outputs": [
    {
     "data": {
      "text/plain": [
       "['coldpay',\n",
       " 'kodaline',\n",
       " 1,\n",
       " 'Charlie Puth',\n",
       " 54,\n",
       " 'imagine dragons',\n",
       " ['Chris Martin', 'Ed Sheeran']]"
      ]
     },
     "execution_count": 50,
     "metadata": {},
     "output_type": "execute_result"
    }
   ],
   "source": [
    "lst"
   ]
  },
  {
   "cell_type": "markdown",
   "id": "ceb20bc5",
   "metadata": {},
   "source": [
    "### Insert - for inserting elements at desired index in a list"
   ]
  },
  {
   "cell_type": "code",
   "execution_count": 46,
   "id": "db08148e",
   "metadata": {},
   "outputs": [],
   "source": [
    "lst.insert(3, 'Charlie Puth')"
   ]
  },
  {
   "cell_type": "code",
   "execution_count": 47,
   "id": "2608e3da",
   "metadata": {},
   "outputs": [
    {
     "data": {
      "text/plain": [
       "['coldpay',\n",
       " 'kodaline',\n",
       " 1,\n",
       " 'Charlie Puth',\n",
       " 54,\n",
       " 'imagine dragons',\n",
       " ['Chris Martin', 'Ed Sheeran']]"
      ]
     },
     "execution_count": 47,
     "metadata": {},
     "output_type": "execute_result"
    }
   ],
   "source": [
    "lst"
   ]
  },
  {
   "cell_type": "code",
   "execution_count": 48,
   "id": "bbbe1e83",
   "metadata": {},
   "outputs": [
    {
     "data": {
      "text/plain": [
       "7"
      ]
     },
     "execution_count": 48,
     "metadata": {},
     "output_type": "execute_result"
    }
   ],
   "source": [
    "len(lst)"
   ]
  },
  {
   "cell_type": "code",
   "execution_count": 51,
   "id": "f635bd6c",
   "metadata": {},
   "outputs": [],
   "source": [
    "lst.append(['Yellow', 'Fix you'])"
   ]
  },
  {
   "cell_type": "code",
   "execution_count": 52,
   "id": "3153ade9",
   "metadata": {},
   "outputs": [
    {
     "data": {
      "text/plain": [
       "['coldpay',\n",
       " 'kodaline',\n",
       " 1,\n",
       " 'Charlie Puth',\n",
       " 54,\n",
       " 'imagine dragons',\n",
       " ['Chris Martin', 'Ed Sheeran'],\n",
       " ['Yellow', 'Fix you']]"
      ]
     },
     "execution_count": 52,
     "metadata": {},
     "output_type": "execute_result"
    }
   ],
   "source": [
    "lst"
   ]
  },
  {
   "cell_type": "code",
   "execution_count": 53,
   "id": "8ee69dd0",
   "metadata": {},
   "outputs": [],
   "source": [
    "lst = [2, 5 ,8]"
   ]
  },
  {
   "cell_type": "code",
   "execution_count": 54,
   "id": "f9b8a512",
   "metadata": {},
   "outputs": [],
   "source": [
    "lst.append([45, 96])"
   ]
  },
  {
   "cell_type": "code",
   "execution_count": 55,
   "id": "04a34a38",
   "metadata": {},
   "outputs": [
    {
     "data": {
      "text/plain": [
       "[2, 5, 8, [45, 96]]"
      ]
     },
     "execution_count": 55,
     "metadata": {},
     "output_type": "execute_result"
    }
   ],
   "source": [
    "lst"
   ]
  },
  {
   "cell_type": "markdown",
   "id": "e423d581",
   "metadata": {},
   "source": [
    "### Extend - adds elements as individual elements to the desired list even if we extend another list (nested list)"
   ]
  },
  {
   "cell_type": "code",
   "execution_count": 56,
   "id": "c2c6400e",
   "metadata": {},
   "outputs": [],
   "source": [
    "lst = [1, 2, 3, 4, 5]"
   ]
  },
  {
   "cell_type": "code",
   "execution_count": 59,
   "id": "640d2a97",
   "metadata": {},
   "outputs": [],
   "source": [
    "#adds 6 and 7 as individual elements to the list lst\n",
    "lst.extend([6, 7])"
   ]
  },
  {
   "cell_type": "code",
   "execution_count": 58,
   "id": "429de110",
   "metadata": {},
   "outputs": [
    {
     "data": {
      "text/plain": [
       "[1, 2, 3, 4, 5, 6, 7]"
      ]
     },
     "execution_count": 58,
     "metadata": {},
     "output_type": "execute_result"
    }
   ],
   "source": [
    "lst"
   ]
  },
  {
   "cell_type": "markdown",
   "id": "a0a9e97e",
   "metadata": {},
   "source": [
    "### Various operations that can be performed on lists"
   ]
  },
  {
   "cell_type": "code",
   "execution_count": 74,
   "id": "0773db92",
   "metadata": {},
   "outputs": [],
   "source": [
    "lst = [15, 2, 31]"
   ]
  },
  {
   "cell_type": "code",
   "execution_count": 90,
   "id": "a6a95ff1",
   "metadata": {},
   "outputs": [
    {
     "data": {
      "text/plain": [
       "48"
      ]
     },
     "execution_count": 90,
     "metadata": {},
     "output_type": "execute_result"
    }
   ],
   "source": [
    "sum(lst)"
   ]
  },
  {
   "cell_type": "code",
   "execution_count": 91,
   "id": "a4153d3a",
   "metadata": {},
   "outputs": [
    {
     "data": {
      "text/plain": [
       "[1, 1, 5, 3, 6, 6, 8, 8, 8, 1, 1, 1, 1, 5, 3, 6, 6, 8, 8, 8, 1, 1]"
      ]
     },
     "execution_count": 91,
     "metadata": {},
     "output_type": "execute_result"
    }
   ],
   "source": [
    "#whole list will get appended n times (here n=2)\n",
    "lst*2"
   ]
  },
  {
   "cell_type": "markdown",
   "id": "f06db1d1",
   "metadata": {},
   "source": [
    "### pop() method"
   ]
  },
  {
   "cell_type": "code",
   "execution_count": 76,
   "id": "9429ab78",
   "metadata": {},
   "outputs": [
    {
     "data": {
      "text/plain": [
       "31"
      ]
     },
     "execution_count": 76,
     "metadata": {},
     "output_type": "execute_result"
    }
   ],
   "source": [
    "lst.pop()"
   ]
  },
  {
   "cell_type": "code",
   "execution_count": 77,
   "id": "5061d15d",
   "metadata": {},
   "outputs": [
    {
     "data": {
      "text/plain": [
       "15"
      ]
     },
     "execution_count": 77,
     "metadata": {},
     "output_type": "execute_result"
    }
   ],
   "source": [
    "lst.pop(0)"
   ]
  },
  {
   "cell_type": "code",
   "execution_count": 78,
   "id": "3a8a80b3",
   "metadata": {},
   "outputs": [
    {
     "data": {
      "text/plain": [
       "[2]"
      ]
     },
     "execution_count": 78,
     "metadata": {},
     "output_type": "execute_result"
    }
   ],
   "source": [
    "lst"
   ]
  },
  {
   "cell_type": "markdown",
   "id": "003e7636",
   "metadata": {},
   "source": [
    "### count() - calculates total occurences of an element in a list"
   ]
  },
  {
   "cell_type": "code",
   "execution_count": 79,
   "id": "4fb11584",
   "metadata": {},
   "outputs": [],
   "source": [
    "lst = [1,1,5,3,6,6,8,8,8,1,1]"
   ]
  },
  {
   "cell_type": "code",
   "execution_count": 80,
   "id": "286a17a5",
   "metadata": {},
   "outputs": [
    {
     "data": {
      "text/plain": [
       "2"
      ]
     },
     "execution_count": 80,
     "metadata": {},
     "output_type": "execute_result"
    }
   ],
   "source": [
    "lst.count(6)"
   ]
  },
  {
   "cell_type": "markdown",
   "id": "a0fd5319",
   "metadata": {},
   "source": [
    "### index() - returns index of first occurence. start and end index are not necessary parameters"
   ]
  },
  {
   "cell_type": "code",
   "execution_count": 81,
   "id": "fa1c4f35",
   "metadata": {},
   "outputs": [
    {
     "data": {
      "text/plain": [
       "6"
      ]
     },
     "execution_count": 81,
     "metadata": {},
     "output_type": "execute_result"
    }
   ],
   "source": [
    "lst.index(8)"
   ]
  },
  {
   "cell_type": "code",
   "execution_count": 82,
   "id": "54411545",
   "metadata": {},
   "outputs": [
    {
     "data": {
      "text/plain": [
       "0"
      ]
     },
     "execution_count": 82,
     "metadata": {},
     "output_type": "execute_result"
    }
   ],
   "source": [
    "lst.index(1)"
   ]
  },
  {
   "cell_type": "code",
   "execution_count": 89,
   "id": "cc3a2d39",
   "metadata": {},
   "outputs": [
    {
     "ename": "ValueError",
     "evalue": "1 is not in list",
     "output_type": "error",
     "traceback": [
      "\u001b[1;31m---------------------------------------------------------------------------\u001b[0m",
      "\u001b[1;31mValueError\u001b[0m                                Traceback (most recent call last)",
      "\u001b[1;32m<ipython-input-89-6cca9538be40>\u001b[0m in \u001b[0;36m<module>\u001b[1;34m\u001b[0m\n\u001b[0;32m      1\u001b[0m \u001b[1;31m#search for 1st occurence of 1 from starting index 5 to ending index 8\u001b[0m\u001b[1;33m\u001b[0m\u001b[1;33m\u001b[0m\u001b[1;33m\u001b[0m\u001b[0m\n\u001b[0;32m      2\u001b[0m \u001b[1;31m#lst.index(value, start, end)\u001b[0m\u001b[1;33m\u001b[0m\u001b[1;33m\u001b[0m\u001b[1;33m\u001b[0m\u001b[0m\n\u001b[1;32m----> 3\u001b[1;33m \u001b[0mlst\u001b[0m\u001b[1;33m.\u001b[0m\u001b[0mindex\u001b[0m\u001b[1;33m(\u001b[0m\u001b[1;36m1\u001b[0m\u001b[1;33m,\u001b[0m\u001b[1;36m5\u001b[0m\u001b[1;33m,\u001b[0m\u001b[1;36m8\u001b[0m\u001b[1;33m)\u001b[0m\u001b[1;33m\u001b[0m\u001b[1;33m\u001b[0m\u001b[0m\n\u001b[0m",
      "\u001b[1;31mValueError\u001b[0m: 1 is not in list"
     ]
    }
   ],
   "source": [
    "#search for 1st occurence of 1 from starting index 5 to ending index 8\n",
    "#lst.index(value, start, end)\n",
    "lst.index(1,5,8)"
   ]
  },
  {
   "cell_type": "code",
   "execution_count": 84,
   "id": "abac4017",
   "metadata": {},
   "outputs": [
    {
     "data": {
      "text/plain": [
       "9"
      ]
     },
     "execution_count": 84,
     "metadata": {},
     "output_type": "execute_result"
    }
   ],
   "source": [
    "lst.index(1, 5, 10)"
   ]
  },
  {
   "cell_type": "markdown",
   "id": "7ded012f",
   "metadata": {},
   "source": [
    "### min and max"
   ]
  },
  {
   "cell_type": "code",
   "execution_count": 86,
   "id": "e49d2e1e",
   "metadata": {},
   "outputs": [
    {
     "data": {
      "text/plain": [
       "1"
      ]
     },
     "execution_count": 86,
     "metadata": {},
     "output_type": "execute_result"
    }
   ],
   "source": [
    "min(lst)"
   ]
  },
  {
   "cell_type": "code",
   "execution_count": 87,
   "id": "c03eea2f",
   "metadata": {},
   "outputs": [
    {
     "data": {
      "text/plain": [
       "8"
      ]
     },
     "execution_count": 87,
     "metadata": {},
     "output_type": "execute_result"
    }
   ],
   "source": [
    "max(lst)"
   ]
  },
  {
   "cell_type": "markdown",
   "id": "39f3266b",
   "metadata": {},
   "source": [
    "### length - returns no. of elements present in a list"
   ]
  },
  {
   "cell_type": "code",
   "execution_count": 88,
   "id": "26475e22",
   "metadata": {},
   "outputs": [
    {
     "data": {
      "text/plain": [
       "11"
      ]
     },
     "execution_count": 88,
     "metadata": {},
     "output_type": "execute_result"
    }
   ],
   "source": [
    "len(lst)"
   ]
  },
  {
   "cell_type": "markdown",
   "id": "126eff56",
   "metadata": {},
   "source": [
    "## Sets\n",
    "A set is an unordered collection data type that is iterable, mutable, and has no duplicate elements. Python's set class represents the mathematical notion of a set. This is based on a data structure called hash table."
   ]
  },
  {
   "cell_type": "code",
   "execution_count": 1,
   "id": "aef7da35",
   "metadata": {},
   "outputs": [
    {
     "name": "stdout",
     "output_type": "stream",
     "text": [
      "set()\n",
      "<class 'set'>\n"
     ]
    }
   ],
   "source": [
    "# defining an empty set\n",
    "set_var = set()\n",
    "print(set_var)\n",
    "print(type(set_var))"
   ]
  },
  {
   "cell_type": "code",
   "execution_count": 3,
   "id": "df0c6a46",
   "metadata": {},
   "outputs": [
    {
     "name": "stdout",
     "output_type": "stream",
     "text": [
      "{'hitman', 'iron man', 'avengers'}\n",
      "<class 'set'>\n"
     ]
    }
   ],
   "source": [
    "set_var = {'avengers', 'iron man', 'hitman'}\n",
    "print(set_var)\n",
    "print(type(set_var))"
   ]
  },
  {
   "cell_type": "markdown",
   "id": "6e1cea14",
   "metadata": {},
   "source": [
    "Note in the above example the order in which the elements are printed is not the same as the order in which they were inserted. \n",
    "Order does not matter."
   ]
  },
  {
   "cell_type": "code",
   "execution_count": 4,
   "id": "b5656723",
   "metadata": {},
   "outputs": [
    {
     "name": "stdout",
     "output_type": "stream",
     "text": [
      "{8, 3, 5, 7}\n"
     ]
    }
   ],
   "source": [
    "set_var = {5, 5, 7, 8, 3}\n",
    "print(set_var)"
   ]
  },
  {
   "cell_type": "markdown",
   "id": "d06725e2",
   "metadata": {},
   "source": [
    "Repeated elements are not allowed. Each element is inserted only once in a set as can be seen above."
   ]
  },
  {
   "cell_type": "code",
   "execution_count": 5,
   "id": "3623efc7",
   "metadata": {},
   "outputs": [
    {
     "name": "stdout",
     "output_type": "stream",
     "text": [
      "{'Ed Sheeran', 'Kodaline', 'Coldplay'}\n",
      "<class 'set'>\n"
     ]
    }
   ],
   "source": [
    "set_var = {'Kodaline', 'Coldplay', 'Ed Sheeran'}\n",
    "print(set_var)\n",
    "print(type(set_var))"
   ]
  },
  {
   "cell_type": "markdown",
   "id": "b834cae3",
   "metadata": {},
   "source": [
    "## In-built functions in sets"
   ]
  },
  {
   "cell_type": "code",
   "execution_count": 7,
   "id": "bfb18ec6",
   "metadata": {},
   "outputs": [
    {
     "name": "stdout",
     "output_type": "stream",
     "text": [
      "{'Imagine Dragons', 'Ed Sheeran', 'Kodaline', 'Coldplay'}\n"
     ]
    }
   ],
   "source": [
    "#add : elements are added at random places in the set\n",
    "set_var.add(\"Imagine Dragons\")\n",
    "print(set_var)"
   ]
  },
  {
   "cell_type": "code",
   "execution_count": 20,
   "id": "87db2999",
   "metadata": {},
   "outputs": [],
   "source": [
    "set1 = {'Kodaline', 'Charlie Puth', 'Coldplay', 'Sam Smith'}\n",
    "set2 = {'Imagine Dragons', 'Coldplay', 'Sam Smith', 'Kodaline'}"
   ]
  },
  {
   "cell_type": "code",
   "execution_count": 21,
   "id": "abe8692f",
   "metadata": {},
   "outputs": [],
   "source": [
    "#intersection : set2 updated with elements present in both set1 and set2\n",
    "set2.intersection_update(set1)"
   ]
  },
  {
   "cell_type": "code",
   "execution_count": 22,
   "id": "f38f6194",
   "metadata": {},
   "outputs": [
    {
     "data": {
      "text/plain": [
       "{'Coldplay', 'Kodaline', 'Sam Smith'}"
      ]
     },
     "execution_count": 22,
     "metadata": {},
     "output_type": "execute_result"
    }
   ],
   "source": [
    "set2"
   ]
  },
  {
   "cell_type": "code",
   "execution_count": 23,
   "id": "a92d63e4",
   "metadata": {},
   "outputs": [
    {
     "name": "stdout",
     "output_type": "stream",
     "text": [
      "set()\n"
     ]
    }
   ],
   "source": [
    "#difference : \n",
    "print(set2.difference(set1))"
   ]
  },
  {
   "cell_type": "code",
   "execution_count": 13,
   "id": "ebcc5a7e",
   "metadata": {},
   "outputs": [
    {
     "data": {
      "text/plain": [
       "set()"
      ]
     },
     "execution_count": 13,
     "metadata": {},
     "output_type": "execute_result"
    }
   ],
   "source": [
    "set2"
   ]
  },
  {
   "cell_type": "code",
   "execution_count": 14,
   "id": "af545b61",
   "metadata": {},
   "outputs": [
    {
     "name": "stdout",
     "output_type": "stream",
     "text": [
      "set()\n"
     ]
    }
   ],
   "source": [
    "print(set2)"
   ]
  },
  {
   "cell_type": "markdown",
   "id": "5ab4fb14",
   "metadata": {},
   "source": [
    "Something is wrong above in difference function. Check it later."
   ]
  },
  {
   "cell_type": "markdown",
   "id": "47143755",
   "metadata": {},
   "source": [
    "## Dictionaries\n",
    "A dictionary is a collection which is unordered, changeable and indexed. In Python dictionaries are written with curly brackets, and they have keys and values."
   ]
  },
  {
   "cell_type": "code",
   "execution_count": 29,
   "id": "00dc9d45",
   "metadata": {},
   "outputs": [],
   "source": [
    "dic = {}"
   ]
  },
  {
   "cell_type": "code",
   "execution_count": 30,
   "id": "892fcff2",
   "metadata": {},
   "outputs": [
    {
     "data": {
      "text/plain": [
       "dict"
      ]
     },
     "execution_count": 30,
     "metadata": {},
     "output_type": "execute_result"
    }
   ],
   "source": [
    "type(dic)"
   ]
  },
  {
   "cell_type": "code",
   "execution_count": 33,
   "id": "4fd037df",
   "metadata": {},
   "outputs": [],
   "source": [
    "# difference between set and dictionary\n",
    "\n",
    "#creating a set\n",
    "set_ex = {1,2,6,4,8}"
   ]
  },
  {
   "cell_type": "code",
   "execution_count": 34,
   "id": "0a097408",
   "metadata": {},
   "outputs": [
    {
     "data": {
      "text/plain": [
       "set"
      ]
     },
     "execution_count": 34,
     "metadata": {},
     "output_type": "execute_result"
    }
   ],
   "source": [
    "type(set_ex)"
   ]
  },
  {
   "cell_type": "code",
   "execution_count": 40,
   "id": "9e721145",
   "metadata": {},
   "outputs": [],
   "source": [
    "#creating a dictionary\n",
    "my_dict = {\"Coldplay\" : \"Fix You\", \"Ed Sheeran\" : \"Afterglow\", \"Kodaline\" : \"Saving Grace\"}"
   ]
  },
  {
   "cell_type": "code",
   "execution_count": 41,
   "id": "59e9d4d0",
   "metadata": {},
   "outputs": [
    {
     "data": {
      "text/plain": [
       "dict"
      ]
     },
     "execution_count": 41,
     "metadata": {},
     "output_type": "execute_result"
    }
   ],
   "source": [
    "type(my_dict)"
   ]
  },
  {
   "cell_type": "markdown",
   "id": "d50be084",
   "metadata": {},
   "source": [
    "### Accessing values based on the keys"
   ]
  },
  {
   "cell_type": "code",
   "execution_count": 45,
   "id": "1d2f2baf",
   "metadata": {},
   "outputs": [
    {
     "data": {
      "text/plain": [
       "'Afterglow'"
      ]
     },
     "execution_count": 45,
     "metadata": {},
     "output_type": "execute_result"
    }
   ],
   "source": [
    "my_dict['Ed Sheeran']"
   ]
  },
  {
   "cell_type": "markdown",
   "id": "5db9e645",
   "metadata": {},
   "source": [
    "### Looping through dictionaries"
   ]
  },
  {
   "cell_type": "code",
   "execution_count": 44,
   "id": "5f61113b",
   "metadata": {},
   "outputs": [
    {
     "name": "stdout",
     "output_type": "stream",
     "text": [
      "Coldplay\n",
      "Ed Sheeran\n",
      "Kodaline\n"
     ]
    }
   ],
   "source": [
    "#By default prints only the keys\n",
    "for x in my_dict:\n",
    "    print(x)"
   ]
  },
  {
   "cell_type": "code",
   "execution_count": 47,
   "id": "2a5c438e",
   "metadata": {},
   "outputs": [
    {
     "name": "stdout",
     "output_type": "stream",
     "text": [
      "Fix You\n",
      "Afterglow\n",
      "Saving Grace\n"
     ]
    }
   ],
   "source": [
    "#looping through dictionaries with values\n",
    "for x in my_dict.values():\n",
    "    print(x)"
   ]
  },
  {
   "cell_type": "code",
   "execution_count": 48,
   "id": "427a38b6",
   "metadata": {},
   "outputs": [
    {
     "name": "stdout",
     "output_type": "stream",
     "text": [
      "('Coldplay', 'Fix You')\n",
      "('Ed Sheeran', 'Afterglow')\n",
      "('Kodaline', 'Saving Grace')\n"
     ]
    }
   ],
   "source": [
    "#both key and values\n",
    "for x in my_dict.items():\n",
    "    print(x)"
   ]
  },
  {
   "cell_type": "markdown",
   "id": "dcd85ef3",
   "metadata": {},
   "source": [
    "### Adding items to a dictionary"
   ]
  },
  {
   "cell_type": "code",
   "execution_count": 49,
   "id": "b3f9973e",
   "metadata": {},
   "outputs": [],
   "source": [
    "my_dict['Imagine Dragons'] = 'Bad Liar'"
   ]
  },
  {
   "cell_type": "code",
   "execution_count": 50,
   "id": "e9f9e519",
   "metadata": {},
   "outputs": [
    {
     "data": {
      "text/plain": [
       "{'Coldplay': 'Fix You',\n",
       " 'Ed Sheeran': 'Afterglow',\n",
       " 'Kodaline': 'Saving Grace',\n",
       " 'Imagine Dragons': 'Bad Liar'}"
      ]
     },
     "execution_count": 50,
     "metadata": {},
     "output_type": "execute_result"
    }
   ],
   "source": [
    "my_dict"
   ]
  },
  {
   "cell_type": "markdown",
   "id": "d8c9b411",
   "metadata": {},
   "source": [
    "### Changing values\n",
    "only values can be changed. **Keys cannot be changed.**"
   ]
  },
  {
   "cell_type": "code",
   "execution_count": 52,
   "id": "bc3051cc",
   "metadata": {},
   "outputs": [],
   "source": [
    "#changing values\n",
    "my_dict['Coldplay'] = 'Yellow'"
   ]
  },
  {
   "cell_type": "code",
   "execution_count": 53,
   "id": "c7a8ffc5",
   "metadata": {},
   "outputs": [
    {
     "data": {
      "text/plain": [
       "{'Coldplay': 'Yellow',\n",
       " 'Ed Sheeran': 'Afterglow',\n",
       " 'Kodaline': 'Saving Grace',\n",
       " 'Imagine Dragons': 'Bad Liar'}"
      ]
     },
     "execution_count": 53,
     "metadata": {},
     "output_type": "execute_result"
    }
   ],
   "source": [
    "my_dict"
   ]
  },
  {
   "cell_type": "markdown",
   "id": "8344b8f1",
   "metadata": {},
   "source": [
    "### Nested dictionary"
   ]
  },
  {
   "cell_type": "code",
   "execution_count": 56,
   "id": "07de82bd",
   "metadata": {},
   "outputs": [],
   "source": [
    "car1_model={'Mercedes':1960}\n",
    "car2_model={'Audi':1970}\n",
    "car3_model={'Ambassador':1980}\n",
    "\n",
    "car_type={'car1':car1_model, 'car2':car2_model, 'car3':car3_model}"
   ]
  },
  {
   "cell_type": "code",
   "execution_count": 57,
   "id": "6ae56f0c",
   "metadata": {},
   "outputs": [
    {
     "name": "stdout",
     "output_type": "stream",
     "text": [
      "{'car1': {'Mercedes': 1960}, 'car2': {'Audi': 1970}, 'car3': {'Ambassador': 1980}}\n"
     ]
    }
   ],
   "source": [
    "print(car_type)"
   ]
  },
  {
   "cell_type": "code",
   "execution_count": 58,
   "id": "f0972d22",
   "metadata": {},
   "outputs": [
    {
     "name": "stdout",
     "output_type": "stream",
     "text": [
      "{'Mercedes': 1960}\n"
     ]
    }
   ],
   "source": [
    "##Accessing the items in the dictionary\n",
    "print(car_type['car1'])"
   ]
  },
  {
   "cell_type": "code",
   "execution_count": 59,
   "id": "302eabb6",
   "metadata": {},
   "outputs": [
    {
     "name": "stdout",
     "output_type": "stream",
     "text": [
      "1970\n"
     ]
    }
   ],
   "source": [
    "#accessing nested items\n",
    "print(car_type['car2']['Audi'])"
   ]
  },
  {
   "cell_type": "markdown",
   "id": "e7c411a4",
   "metadata": {},
   "source": [
    "## _Tuples_"
   ]
  },
  {
   "cell_type": "code",
   "execution_count": 60,
   "id": "1771db8c",
   "metadata": {},
   "outputs": [],
   "source": [
    "# creating an empty tuple\n",
    "my_tuple = tuple()"
   ]
  },
  {
   "cell_type": "code",
   "execution_count": 61,
   "id": "cb0f968a",
   "metadata": {},
   "outputs": [
    {
     "data": {
      "text/plain": [
       "tuple"
      ]
     },
     "execution_count": 61,
     "metadata": {},
     "output_type": "execute_result"
    }
   ],
   "source": [
    "type(my_tuple)"
   ]
  },
  {
   "cell_type": "code",
   "execution_count": 62,
   "id": "1735221f",
   "metadata": {},
   "outputs": [],
   "source": [
    "my_tuple = ()"
   ]
  },
  {
   "cell_type": "code",
   "execution_count": 63,
   "id": "785eda80",
   "metadata": {},
   "outputs": [
    {
     "data": {
      "text/plain": [
       "tuple"
      ]
     },
     "execution_count": 63,
     "metadata": {},
     "output_type": "execute_result"
    }
   ],
   "source": [
    "type(my_tuple)"
   ]
  },
  {
   "cell_type": "markdown",
   "id": "2df0ec93",
   "metadata": {},
   "source": [
    "### Updating a tuple : it can be updated only as a whole, individual elements cannot be changed."
   ]
  },
  {
   "cell_type": "code",
   "execution_count": 64,
   "id": "1bfed941",
   "metadata": {},
   "outputs": [],
   "source": [
    "my_tuple = ('hello', 'Sherlock', 'Holmes')"
   ]
  },
  {
   "cell_type": "code",
   "execution_count": 65,
   "id": "a7e952d5",
   "metadata": {},
   "outputs": [
    {
     "name": "stdout",
     "output_type": "stream",
     "text": [
      "('hello', 'Sherlock', 'Holmes')\n"
     ]
    }
   ],
   "source": [
    "print(my_tuple)"
   ]
  },
  {
   "cell_type": "code",
   "execution_count": 66,
   "id": "bd567ec9",
   "metadata": {},
   "outputs": [],
   "source": [
    "my_tuple = ('Hello', 'World')"
   ]
  },
  {
   "cell_type": "code",
   "execution_count": 67,
   "id": "a28958f3",
   "metadata": {},
   "outputs": [
    {
     "name": "stdout",
     "output_type": "stream",
     "text": [
      "('Hello', 'World')\n"
     ]
    }
   ],
   "source": [
    "print(my_tuple)"
   ]
  },
  {
   "cell_type": "code",
   "execution_count": 68,
   "id": "8b0a51de",
   "metadata": {},
   "outputs": [
    {
     "name": "stdout",
     "output_type": "stream",
     "text": [
      "<class 'tuple'>\n"
     ]
    }
   ],
   "source": [
    "print(type(my_tuple))"
   ]
  },
  {
   "cell_type": "markdown",
   "id": "39672995",
   "metadata": {},
   "source": [
    "### In-built functions\n"
   ]
  },
  {
   "cell_type": "code",
   "execution_count": 69,
   "id": "d0531a18",
   "metadata": {},
   "outputs": [
    {
     "data": {
      "text/plain": [
       "0"
      ]
     },
     "execution_count": 69,
     "metadata": {},
     "output_type": "execute_result"
    }
   ],
   "source": [
    "my_tuple.count('Holmes')"
   ]
  },
  {
   "cell_type": "code",
   "execution_count": 70,
   "id": "08bb8a42",
   "metadata": {},
   "outputs": [
    {
     "data": {
      "text/plain": [
       "1"
      ]
     },
     "execution_count": 70,
     "metadata": {},
     "output_type": "execute_result"
    }
   ],
   "source": [
    "my_tuple.index('World')"
   ]
  },
  {
   "cell_type": "code",
   "execution_count": null,
   "id": "6ca9aae4",
   "metadata": {},
   "outputs": [],
   "source": []
  }
 ],
 "metadata": {
  "kernelspec": {
   "display_name": "Python 3",
   "language": "python",
   "name": "python3"
  },
  "language_info": {
   "codemirror_mode": {
    "name": "ipython",
    "version": 3
   },
   "file_extension": ".py",
   "mimetype": "text/x-python",
   "name": "python",
   "nbconvert_exporter": "python",
   "pygments_lexer": "ipython3",
   "version": "3.8.10"
  }
 },
 "nbformat": 4,
 "nbformat_minor": 5
}
